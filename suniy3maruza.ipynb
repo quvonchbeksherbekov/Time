{
  "nbformat": 4,
  "nbformat_minor": 0,
  "metadata": {
    "colab": {
      "provenance": [],
      "authorship_tag": "ABX9TyNF4Ma9MV/kWAclgJ+MwcH+",
      "include_colab_link": true
    },
    "kernelspec": {
      "name": "python3",
      "display_name": "Python 3"
    },
    "language_info": {
      "name": "python"
    }
  },
  "cells": [
    {
      "cell_type": "markdown",
      "metadata": {
        "id": "view-in-github",
        "colab_type": "text"
      },
      "source": [
        "<a href=\"https://colab.research.google.com/github/quvonchbeksherbekov/Time/blob/main/suniy3maruza.ipynb\" target=\"_parent\"><img src=\"https://colab.research.google.com/assets/colab-badge.svg\" alt=\"Open In Colab\"/></a>"
      ]
    },
    {
      "cell_type": "code",
      "execution_count": 1,
      "metadata": {
        "id": "a1EFEFa9XMtB"
      },
      "outputs": [],
      "source": [
        "import pandas as pd\n",
        "import numpy as np"
      ]
    },
    {
      "cell_type": "code",
      "source": [
        "dff=pd.read_excel(\"/content/sample_data/Narxlar.xlsx\",index_col=0)\n",
        "dff"
      ],
      "metadata": {
        "colab": {
          "base_uri": "https://localhost:8080/",
          "height": 676
        },
        "id": "LKVYnYij1CaD",
        "outputId": "472d9579-4f37-474d-86e9-7a8d5b3294f0"
      },
      "execution_count": 3,
      "outputs": [
        {
          "output_type": "execute_result",
          "data": {
            "text/plain": [
              "                   Pors  Narxi\n",
              "Nomi                          \n",
              "Osh              1-pors  11000\n",
              "QozonKabob       1-kilo  23000\n",
              "Sho'rva          1-pors  10000\n",
              "Mastava          1-pors  80000\n",
              "Somsa            1-dona  25000\n",
              "Pirashki         1-dona   3000\n",
              "Non              1-dona   3000\n",
              "Dimlama          1-pors  90000\n",
              "Kola             1-dona  13000\n",
              "Pepsi            1-dona  14000\n",
              "Fanta            1-dona  15000\n",
              "Nos             1-xalta   4000\n",
              "Sigaret        1-pachka  10000\n",
              "Aroq             1-litr  25000\n",
              "Lag'mon          1-pors  20000\n",
              "Piva             1-dona  10000\n",
              "Semichka         1-kilo  25000\n",
              "Qurt             1-dona    500\n",
              "SirnePalichka    1-kilo  12000"
            ],
            "text/html": [
              "\n",
              "  <div id=\"df-f5081e20-021b-4558-bed8-36fcd4fd9d74\">\n",
              "    <div class=\"colab-df-container\">\n",
              "      <div>\n",
              "<style scoped>\n",
              "    .dataframe tbody tr th:only-of-type {\n",
              "        vertical-align: middle;\n",
              "    }\n",
              "\n",
              "    .dataframe tbody tr th {\n",
              "        vertical-align: top;\n",
              "    }\n",
              "\n",
              "    .dataframe thead th {\n",
              "        text-align: right;\n",
              "    }\n",
              "</style>\n",
              "<table border=\"1\" class=\"dataframe\">\n",
              "  <thead>\n",
              "    <tr style=\"text-align: right;\">\n",
              "      <th></th>\n",
              "      <th>Pors</th>\n",
              "      <th>Narxi</th>\n",
              "    </tr>\n",
              "    <tr>\n",
              "      <th>Nomi</th>\n",
              "      <th></th>\n",
              "      <th></th>\n",
              "    </tr>\n",
              "  </thead>\n",
              "  <tbody>\n",
              "    <tr>\n",
              "      <th>Osh</th>\n",
              "      <td>1-pors</td>\n",
              "      <td>11000</td>\n",
              "    </tr>\n",
              "    <tr>\n",
              "      <th>QozonKabob</th>\n",
              "      <td>1-kilo</td>\n",
              "      <td>23000</td>\n",
              "    </tr>\n",
              "    <tr>\n",
              "      <th>Sho'rva</th>\n",
              "      <td>1-pors</td>\n",
              "      <td>10000</td>\n",
              "    </tr>\n",
              "    <tr>\n",
              "      <th>Mastava</th>\n",
              "      <td>1-pors</td>\n",
              "      <td>80000</td>\n",
              "    </tr>\n",
              "    <tr>\n",
              "      <th>Somsa</th>\n",
              "      <td>1-dona</td>\n",
              "      <td>25000</td>\n",
              "    </tr>\n",
              "    <tr>\n",
              "      <th>Pirashki</th>\n",
              "      <td>1-dona</td>\n",
              "      <td>3000</td>\n",
              "    </tr>\n",
              "    <tr>\n",
              "      <th>Non</th>\n",
              "      <td>1-dona</td>\n",
              "      <td>3000</td>\n",
              "    </tr>\n",
              "    <tr>\n",
              "      <th>Dimlama</th>\n",
              "      <td>1-pors</td>\n",
              "      <td>90000</td>\n",
              "    </tr>\n",
              "    <tr>\n",
              "      <th>Kola</th>\n",
              "      <td>1-dona</td>\n",
              "      <td>13000</td>\n",
              "    </tr>\n",
              "    <tr>\n",
              "      <th>Pepsi</th>\n",
              "      <td>1-dona</td>\n",
              "      <td>14000</td>\n",
              "    </tr>\n",
              "    <tr>\n",
              "      <th>Fanta</th>\n",
              "      <td>1-dona</td>\n",
              "      <td>15000</td>\n",
              "    </tr>\n",
              "    <tr>\n",
              "      <th>Nos</th>\n",
              "      <td>1-xalta</td>\n",
              "      <td>4000</td>\n",
              "    </tr>\n",
              "    <tr>\n",
              "      <th>Sigaret</th>\n",
              "      <td>1-pachka</td>\n",
              "      <td>10000</td>\n",
              "    </tr>\n",
              "    <tr>\n",
              "      <th>Aroq</th>\n",
              "      <td>1-litr</td>\n",
              "      <td>25000</td>\n",
              "    </tr>\n",
              "    <tr>\n",
              "      <th>Lag'mon</th>\n",
              "      <td>1-pors</td>\n",
              "      <td>20000</td>\n",
              "    </tr>\n",
              "    <tr>\n",
              "      <th>Piva</th>\n",
              "      <td>1-dona</td>\n",
              "      <td>10000</td>\n",
              "    </tr>\n",
              "    <tr>\n",
              "      <th>Semichka</th>\n",
              "      <td>1-kilo</td>\n",
              "      <td>25000</td>\n",
              "    </tr>\n",
              "    <tr>\n",
              "      <th>Qurt</th>\n",
              "      <td>1-dona</td>\n",
              "      <td>500</td>\n",
              "    </tr>\n",
              "    <tr>\n",
              "      <th>SirnePalichka</th>\n",
              "      <td>1-kilo</td>\n",
              "      <td>12000</td>\n",
              "    </tr>\n",
              "  </tbody>\n",
              "</table>\n",
              "</div>\n",
              "      <button class=\"colab-df-convert\" onclick=\"convertToInteractive('df-f5081e20-021b-4558-bed8-36fcd4fd9d74')\"\n",
              "              title=\"Convert this dataframe to an interactive table.\"\n",
              "              style=\"display:none;\">\n",
              "        \n",
              "  <svg xmlns=\"http://www.w3.org/2000/svg\" height=\"24px\"viewBox=\"0 0 24 24\"\n",
              "       width=\"24px\">\n",
              "    <path d=\"M0 0h24v24H0V0z\" fill=\"none\"/>\n",
              "    <path d=\"M18.56 5.44l.94 2.06.94-2.06 2.06-.94-2.06-.94-.94-2.06-.94 2.06-2.06.94zm-11 1L8.5 8.5l.94-2.06 2.06-.94-2.06-.94L8.5 2.5l-.94 2.06-2.06.94zm10 10l.94 2.06.94-2.06 2.06-.94-2.06-.94-.94-2.06-.94 2.06-2.06.94z\"/><path d=\"M17.41 7.96l-1.37-1.37c-.4-.4-.92-.59-1.43-.59-.52 0-1.04.2-1.43.59L10.3 9.45l-7.72 7.72c-.78.78-.78 2.05 0 2.83L4 21.41c.39.39.9.59 1.41.59.51 0 1.02-.2 1.41-.59l7.78-7.78 2.81-2.81c.8-.78.8-2.07 0-2.86zM5.41 20L4 18.59l7.72-7.72 1.47 1.35L5.41 20z\"/>\n",
              "  </svg>\n",
              "      </button>\n",
              "      \n",
              "  <style>\n",
              "    .colab-df-container {\n",
              "      display:flex;\n",
              "      flex-wrap:wrap;\n",
              "      gap: 12px;\n",
              "    }\n",
              "\n",
              "    .colab-df-convert {\n",
              "      background-color: #E8F0FE;\n",
              "      border: none;\n",
              "      border-radius: 50%;\n",
              "      cursor: pointer;\n",
              "      display: none;\n",
              "      fill: #1967D2;\n",
              "      height: 32px;\n",
              "      padding: 0 0 0 0;\n",
              "      width: 32px;\n",
              "    }\n",
              "\n",
              "    .colab-df-convert:hover {\n",
              "      background-color: #E2EBFA;\n",
              "      box-shadow: 0px 1px 2px rgba(60, 64, 67, 0.3), 0px 1px 3px 1px rgba(60, 64, 67, 0.15);\n",
              "      fill: #174EA6;\n",
              "    }\n",
              "\n",
              "    [theme=dark] .colab-df-convert {\n",
              "      background-color: #3B4455;\n",
              "      fill: #D2E3FC;\n",
              "    }\n",
              "\n",
              "    [theme=dark] .colab-df-convert:hover {\n",
              "      background-color: #434B5C;\n",
              "      box-shadow: 0px 1px 3px 1px rgba(0, 0, 0, 0.15);\n",
              "      filter: drop-shadow(0px 1px 2px rgba(0, 0, 0, 0.3));\n",
              "      fill: #FFFFFF;\n",
              "    }\n",
              "  </style>\n",
              "\n",
              "      <script>\n",
              "        const buttonEl =\n",
              "          document.querySelector('#df-f5081e20-021b-4558-bed8-36fcd4fd9d74 button.colab-df-convert');\n",
              "        buttonEl.style.display =\n",
              "          google.colab.kernel.accessAllowed ? 'block' : 'none';\n",
              "\n",
              "        async function convertToInteractive(key) {\n",
              "          const element = document.querySelector('#df-f5081e20-021b-4558-bed8-36fcd4fd9d74');\n",
              "          const dataTable =\n",
              "            await google.colab.kernel.invokeFunction('convertToInteractive',\n",
              "                                                     [key], {});\n",
              "          if (!dataTable) return;\n",
              "\n",
              "          const docLinkHtml = 'Like what you see? Visit the ' +\n",
              "            '<a target=\"_blank\" href=https://colab.research.google.com/notebooks/data_table.ipynb>data table notebook</a>'\n",
              "            + ' to learn more about interactive tables.';\n",
              "          element.innerHTML = '';\n",
              "          dataTable['output_type'] = 'display_data';\n",
              "          await google.colab.output.renderOutput(dataTable, element);\n",
              "          const docLink = document.createElement('div');\n",
              "          docLink.innerHTML = docLinkHtml;\n",
              "          element.appendChild(docLink);\n",
              "        }\n",
              "      </script>\n",
              "    </div>\n",
              "  </div>\n",
              "  "
            ]
          },
          "metadata": {},
          "execution_count": 3
        }
      ]
    },
    {
      "cell_type": "code",
      "source": [
        "dff.loc['Osh']"
      ],
      "metadata": {
        "colab": {
          "base_uri": "https://localhost:8080/"
        },
        "id": "A24kbVxV1CWk",
        "outputId": "e666a00f-4959-4389-8cdc-b476eb8fca83"
      },
      "execution_count": 4,
      "outputs": [
        {
          "output_type": "execute_result",
          "data": {
            "text/plain": [
              "Pors     1-pors\n",
              "Narxi     11000\n",
              "Name: Osh, dtype: object"
            ]
          },
          "metadata": {},
          "execution_count": 4
        }
      ]
    },
    {
      "cell_type": "code",
      "source": [
        "bins=[0,10000,30000,100000]"
      ],
      "metadata": {
        "id": "fuOV1Noj1CUc"
      },
      "execution_count": 5,
      "outputs": []
    },
    {
      "cell_type": "code",
      "source": [
        "population=dff.Narxi\n",
        "population"
      ],
      "metadata": {
        "colab": {
          "base_uri": "https://localhost:8080/"
        },
        "id": "DBH_3QIb1CSF",
        "outputId": "b5b938b1-40fc-48f7-cc18-51b4d21e9a65"
      },
      "execution_count": 6,
      "outputs": [
        {
          "output_type": "execute_result",
          "data": {
            "text/plain": [
              "Nomi\n",
              "Osh              11000\n",
              "QozonKabob       23000\n",
              "Sho'rva          10000\n",
              "Mastava          80000\n",
              "Somsa            25000\n",
              "Pirashki          3000\n",
              "Non               3000\n",
              "Dimlama          90000\n",
              "Kola             13000\n",
              "Pepsi            14000\n",
              "Fanta            15000\n",
              "Nos               4000\n",
              "Sigaret          10000\n",
              "Aroq             25000\n",
              "Lag'mon          20000\n",
              "Piva             10000\n",
              "Semichka         25000\n",
              "Qurt               500\n",
              "SirnePalichka    12000\n",
              "Name: Narxi, dtype: int64"
            ]
          },
          "metadata": {},
          "execution_count": 6
        }
      ]
    },
    {
      "cell_type": "code",
      "source": [
        "values=[\"arzon\",\"urtacha\",\"qimmat\"]\n",
        "array=pd.cut(population,bins, labels=values)\n",
        "array"
      ],
      "metadata": {
        "colab": {
          "base_uri": "https://localhost:8080/"
        },
        "id": "ZINX4Bby1CQA",
        "outputId": "713ac539-c0f7-43aa-969e-1bb5d6e1dee3"
      },
      "execution_count": 7,
      "outputs": [
        {
          "output_type": "execute_result",
          "data": {
            "text/plain": [
              "Nomi\n",
              "Osh              urtacha\n",
              "QozonKabob       urtacha\n",
              "Sho'rva            arzon\n",
              "Mastava           qimmat\n",
              "Somsa            urtacha\n",
              "Pirashki           arzon\n",
              "Non                arzon\n",
              "Dimlama           qimmat\n",
              "Kola             urtacha\n",
              "Pepsi            urtacha\n",
              "Fanta            urtacha\n",
              "Nos                arzon\n",
              "Sigaret            arzon\n",
              "Aroq             urtacha\n",
              "Lag'mon          urtacha\n",
              "Piva               arzon\n",
              "Semichka         urtacha\n",
              "Qurt               arzon\n",
              "SirnePalichka    urtacha\n",
              "Name: Narxi, dtype: category\n",
              "Categories (3, object): ['arzon' < 'urtacha' < 'qimmat']"
            ]
          },
          "metadata": {},
          "execution_count": 7
        }
      ]
    }
  ]
}